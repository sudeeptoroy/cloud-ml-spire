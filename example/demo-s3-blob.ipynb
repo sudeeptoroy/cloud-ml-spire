import pandas as pd
import boto3
import json
from botocore.exceptions import ClientError
#import urllib2
import requests
import ssl
from tempfile import NamedTemporaryFile
from OpenSSL import crypto

# Import standard libraries
import os
import sys
import logging
import requests
import cryptography 

# Import third-party libraries
from cryptography.x509 import load_pem_x509_certificate
from cryptography.hazmat.backends import default_backend
from cryptography.hazmat.primitives import hashes
from msal import ConfidentialClientApplication
from azure.identity import DefaultAzureCredential




#from azure.storage.blob import BlobServiceClient

g_cert_file = '/tmp/devup_certificate.pem'
g_key_file = '/tmp/devup_key.pem'


# Configure the key variables
TENANT_NAME =  'c6c7430e-f6b8-461f-9bf1-fe5610a6f70b'
CLIENT_ID =  'e7c8f234-d125-4d5c-a9a6-4a4b4dbab15b'
SCOPES = ['https://management.azure.com//.default']
PRIVATE_KEY_LOCATION =  '/tmp/devup_key.pem'
CERTIFICATE_LOCATION =  '/tmp/devup_certificate.pem'

def get_secret_svid():

    secret_name = "devup-jupyter"
    region_name = "us-east-1"

    # Create a Secrets Manager client
    session = boto3.session.Session()
    client = session.client(
        service_name='secretsmanager',
        region_name=region_name
    )

    try:
        get_secret_value_response = client.get_secret_value(
            SecretId=secret_name
        )
    except ClientError as e:
        # For a list of exceptions thrown, see
        # https://docs.aws.amazon.com/secretsmanager/latest/apireference/API_GetSecretValue.html
        raise e

    # Decrypts secret using the associated KMS key.
    # print (get_secret_value_response)
    svid = get_secret_value_response['SecretBinary']
    #print (svid)
    data = json.loads(svid)
    
    cert = data["x509SVID"].encode('utf-8')
    key = data["x509SVIDKey"].encode('utf-8')

    #cert = data["x509SVID"]
    #key = data["x509SVIDKey"]



    #cert = data["x509SVID"]
    #key = data["x509SVIDKey"]
    
    #print (data)
    #data1 = data["spiffeID"]
    #cert1 = data["x509SVID"]
    #key = data["x509SVIDKey"]

    # Your code goes here.
    #print (secret)
    # print (cert1)
    #print (key)

    #with open(g_cert_file, "w") as f:
    #    json.dump(cert, f)

    #with open(g_key_file, "w") as f:
    #    json.dump(key, f)
    
    
    with open(g_cert_file, 'wb') as f:
        f.write(cert)
    with open(g_key_file, 'wb') as f:
        f.write(key)
    
    #return data

# Connect to Azure with MSAL and Private Certs - Remember to Create an App




# Create a logging mechanism
def enable_logging():
    stdout_handler = logging.StreamHandler(sys.stdout)
    handlers = [stdout_handler]
    logging.basicConfig(
        level=logging.INFO,
        format='%(asctime)s - %(name)s - %(levelname)s - %(message)s',
        handlers=handlers
    )

# obtain an access token
def get_sp_access_token(client_id, client_credential, tenant_name, scopes):
    logging.info('Attempting to obtain an access token...')
    result = None
    app = ConfidentialClientApplication(
        client_id=client_id,
        client_credential=client_credential,
        authority=f"https://login.microsoftonline.com/{tenant_name}"
    )
    result = app.acquire_token_for_client(scopes=scopes)

    if "access_token" in result:
        logging.info('Access token successfully acquired')
        return result['access_token']
    else:
        logging.error('Unable to obtain access token')
        logging.error(f"Error was: {result['error']}")
        logging.error(f"Error description was: {result['error_description']}")
        logging.error(f"Error correlation_id was: {result['correlation_id']}")
        raise Exception('Failed to obtain access token')


def get_token():
    try:
        # Enable logging
        enable_logging()

        # Read in the private key and certificate
        with open(PRIVATE_KEY_LOCATION) as file:
            private_key = file.read()

        with open(CERTIFICATE_LOCATION) as file:
            public_certificate = file.read()

        # Create an X509 object and calculate the thumbprint
        cert = load_pem_x509_certificate(data=bytes(
            public_certificate, 'UTF-8'), backend=default_backend())
        thumbprint = (cert.fingerprint(hashes.SHA1()).hex())

        print (thumbprint)
        
        # Obtain an access token using MSAL
        mytoken = get_sp_access_token(
            client_id=CLIENT_ID,
            client_credential={
                "private_key": private_key,
                "thumbprint": thumbprint,
                "public_certificate": public_certificate
            },
            tenant_name=TENANT_NAME,
            scopes=SCOPES
        )

        print(mytoken)

    except Exception:
        logging.error('Execution error: ', exc_info=True)



#def download_blob_using_app():

#    from msal import ConfidentialClientApplication
#    import jwt  # You need PyJWT library, install using `pip install PyJWT`

    # Load your certificate and get the thumbprint
#    with open(g_cert_file, 'r') as cert_file:
#        cert_str = cert_file.read()

    # Extract the thumbprint and private key from the certificate
#    thumbprint = jwt.algorithms.RSAAlgorithm.from_jwk(cert_str).thumbprint().hex()
#    private_key = open(g_key_file, 'r').read()

    # Your app's registration information
#    client_id = "e7c8f234-d125-4d5c-a9a6-4a4b4dbab15b"
#    authority = f"https://login.microsoftonline.com/c6c7430e-f6b8-461f-9bf1-fe5610a6f70b"
#    scope = ["scope1", "scope2"]  # The scopes/permissions the app requires

    # Create a confidential client application
#    client_app = ConfidentialClientApplication(
#        client_id=client_id,
#        authority=authority,
#        client_credential={"thumbprint": thumbprint, "private_key": private_key},
#    )

    # Acquire a token (this example uses client credentials flow)
#    token_response = client_app.acquire_token_for_client(scopes=scope)

#    client = BlobServiceClient(
#        account_url=azure_blob_account_url, credential=token_response)

#    blob_client = client.get_blob_client(container=bucket, blob='test.txt')

#    blob_download = blob_client.download_blob()
#    blob_content = blob_download.readall().decode("utf-8")

#    print(token_response)


#def download_blob_from_url():
    # Set the URL of the file to download
    #url = 'https://devupsudi.blob.core.windows.net/devup/measles_incidence.csv'
 
    # Set the path to the certificate file and its password
    #cert_file = '/path/to/certificate.pem'
    #cert_key_file = '/path/to/certificate_key.pem'
    #cert_password = 'password'

    # Set the name of the downloaded file
    # downloaded_file_name = 'azure-download.csv'
 #   cert_password = 'password'

    # Create an SSL context and load the certificate chain and key
    # context = ssl.SSLContext(ssl.PROTOCOL_TLSv1_2) ssl.PROTOCOL_TLS_CLIENT
  #  context = ssl.SSLContext(ssl.PROTOCOL_TLS_CLIENT)
    
   # context.load_cert_chain(certfile=cert_file, keyfile=key_file, password=cert_password)

    # Send a GET request with the SSL context
    #response = requests.get(url, cert=context)

    # Write the response content to a file with the specified name
    #with open(downloaded_file_name, 'wb') as f:
    #    print (response.content)
    #    f.write(response.content)

    #print (response.content)
    #data = pd.read_csv(response.content, skiprows=2, na_values='-')
   # return data

#def download_blob_to_file(self, blob_service_client: BlobServiceClient, container_name):
    # Set the path to the certificate file and its password

    #container_name = 'devupsudi'
    
#    blob_client = blob_service_client.get_blob_client(container_name, blob)
#    with open(file=os.path.join(r'/', blob), mode="wb") as sample_blob:
#        download_stream = blob_client.download_blob(cert_file=cert_file, key_file=key_file)
#        sample_blob.write(download_stream.readall())


get_secret_svid()

token = get_token()

print (token)

#download_blob_using_app()

#data = download_blob_from_url()
#data.head()

#blob = 'measles_incidence.csv'
#account_url = "https://devupsudi.blob.core.windows.net"
#credential = DefaultAzureCredential()

# Create the BlobServiceClient object
#blob_service_client = BlobServiceClient(account_url, credential=credential)


# Set the URL of the file to download
# url = 'https://devupsudi.blob.core.windows.net/devup/measles_incidence.csv'

# Set the path to the certificate file and its password
# cert_file = '/path/to/certificate.pem'
# cert_password = 'password'

# Create an SSL context and load the certificate chain
# context = ssl.SSLContext(ssl.PROTOCOL_TLSv1_2)
# context.load_cert_chain(certfile=cert_file, password=cert_password)

# Send a GET request with the SSL context
# response = requests.get(url, cert=context)

# Write the response content to a file
# with open('downloaded-file', 'wb') as f:
#    f.write(response.content)





# data = pd.read_csv(body, skiprows=2, na_values='-')

# Set the connection string and container name
#connection_string = 'https://devupsudi.blob.core.windows.net/devup/measles_incidence.csv''
#container_name = 'devupsudi'

# Create a BlobServiceClient object
#blob_service_client = BlobServiceClient.from_connection_string(connection_string)

# Set the blob name and download path
#blob_name = '<your_blob_name>'
#download_path = '<your_download_path>'

# Set the path to the certificate file and its password
#cert_file = '/path/to/certificate.pem'
#key_file = '/path/to/key.pem'
#cert_password = 'password'

# Get the blob client and download the blob
#blob_client = blob_service_client.get_blob_client(container=container_name, blob=blob_name)
#with open(download_path, 'wb') as download_file:
#    download_file.write(blob_client.download_blob(cert_file=cert_file, key_file=key_file).readall())
    #download_file.write(blob_client.download_blob(cert_file=cert_file, key_file=key_file, cert_password=cert_password).readall())


#bucket_name = 'devup-cvs'
#s3 = boto3.resource('s3')
#bucket = s3.Bucket(bucket_name)
#csv_key = 'measles_incidence.csv'
#obj = bucket.Object(csv_key)
#body = obj.get()['Body']
#data = pd.read_csv(body, skiprows=2, na_values='-')

# data.head()
